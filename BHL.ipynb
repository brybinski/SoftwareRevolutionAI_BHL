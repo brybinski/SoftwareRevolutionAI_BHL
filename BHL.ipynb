{
 "cells": [
  {
   "cell_type": "code",
   "execution_count": 38,
   "metadata": {},
   "outputs": [
    {
     "data": {
      "text/plain": [
       "array([0.39761092, 0.40734415, 0.3970965 , 0.41929974, 0.41332195])"
      ]
     },
     "execution_count": 38,
     "metadata": {},
     "output_type": "execute_result"
    }
   ],
   "source": [
    "import pandas as pd\n",
    "import numpy as np\n",
    "from sklearn import neighbors\n",
    "from sklearn.model_selection import cross_val_score\n",
    "\n",
    "gender_mapping = {'Male': 0, 'Female': 1}\n",
    "yes_no_mapping = {'Yes': 1, 'No': 0}\n",
    "profession_mapping = {\n",
    "    'Healthcare': 0,\n",
    "    'Engineer': 1,\n",
    "    'Doctor': 2,\n",
    "    'Artist': 3,\n",
    "    'Marketing': 4,\n",
    "    'Lawyer': 5,\n",
    "    'Executive': 6,\n",
    "    'Homemaker': 7\n",
    "}\n",
    "\n",
    "spending_score_mapping = {\n",
    "    'Low': 0,\n",
    "    'Average': 1,\n",
    "    'High': 2\n",
    "}\n",
    "\n",
    "var_1_mapping = {\n",
    "    'Cat_1': 0,\n",
    "    'Cat_2': 1,\n",
    "    'Cat_3': 2,\n",
    "    'Cat_4': 3,\n",
    "    'Cat_5': 4,\n",
    "    'Cat_6': 5,\n",
    "    'Cat_7': 6\n",
    "}\n",
    "\n",
    "segmentation_mapping = {\n",
    "    'A': 0,\n",
    "    'B': 1,\n",
    "    'C': 2,\n",
    "    'D': 3\n",
    "}\n",
    "\n",
    "df = pd.read_csv('./train.csv')\n",
    "\n",
    "df['Gender'] = df['Gender'].map(gender_mapping)\n",
    "df['Ever_Married'] = df['Ever_Married'].map(yes_no_mapping)\n",
    "df['Graduated'] = df['Graduated'].map(yes_no_mapping)\n",
    "df['Profession'] = df['Profession'].map(profession_mapping)\n",
    "df['Spending_Score'] = df['Spending_Score'].map(spending_score_mapping)\n",
    "df['Var_1'] = df['Var_1'].map(var_1_mapping)\n",
    "df['Segmentation'] = df['Segmentation'].map(segmentation_mapping)\n",
    "\n",
    "df = df.dropna()\n",
    "\n",
    "targets = df.iloc[:, -1]\n",
    "data = df.iloc[:, :-1]\n",
    "feature_names = df.columns.values[:-1]\n",
    "\n",
    "\n",
    "X_data = pd.DataFrame(data, columns=feature_names)\n",
    "y_data = targets.values\n",
    "\n",
    "\n",
    "\n",
    "knn = neighbors.KNeighborsClassifier()\n",
    "cross_val_score(knn, X_data, y_data, cv=5)"
   ]
  }
 ],
 "metadata": {
  "kernelspec": {
   "display_name": ".venv",
   "language": "python",
   "name": "python3"
  },
  "language_info": {
   "codemirror_mode": {
    "name": "ipython",
    "version": 3
   },
   "file_extension": ".py",
   "mimetype": "text/x-python",
   "name": "python",
   "nbconvert_exporter": "python",
   "pygments_lexer": "ipython3",
   "version": "3.11.2"
  }
 },
 "nbformat": 4,
 "nbformat_minor": 2
}
