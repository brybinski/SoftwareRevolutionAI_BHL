{
 "cells": [
  {
   "cell_type": "markdown",
   "metadata": {},
   "source": [
    "# TYTUŁ"
   ]
  },
  {
   "cell_type": "markdown",
   "metadata": {},
   "source": [
    "# Spis Treści\n",
    "\n",
    "1. [Wczytanie i przekształcenie danych](#Wczytanie-i-dostosowanie-danych)\n",
    "2. [Random forest](#Random-forest)\n",
    "3. [Gradient boosting](#Gradient-boosting)\n",
    "4. [Support vector machine](#Support-vector-machine)\n",
    "5. [Xgboost](#Xgboost)"
   ]
  },
  {
   "cell_type": "markdown",
   "metadata": {},
   "source": [
    "## Wczytanie i dostosowanie danych\n",
    "\n",
    "Zaimportowane zostały biblioteki Pandas i NumPy. Następnie, dane zostały wczytane z pliku CSV do zmiennej data. W kolejnym kroku usunięte zostały wiersze zawierające brakujące dane, a indeksy wierszy zostały zresetowane. Ostatecznie zmienna data zawiera oczyszczone dane gotowe do analizy."
   ]
  },
  {
   "cell_type": "code",
   "execution_count": null,
   "metadata": {},
   "outputs": [],
   "source": [
    "import pandas as pd\n",
    "import numpy as np\n",
    "\n",
    "data = pd.read_csv('train.csv')\n",
    "data = data.dropna().reset_index(drop=True)"
   ]
  },
  {
   "cell_type": "markdown",
   "metadata": {},
   "source": [
    "Klasa OneHotEncoder została zaimportowana z biblioteki sklearn.preprocessing i użyta do przekształcenia kategorialnej zmiennej zawierającej informacje o zawodach na kodowanie \"one-hot\". Następnie został stworzony nowy DataFrame z przekształconymi danymi, który został połączony z oryginalnym DataFrame 'data' po usunięciu kolumny zawierającej informacje o zawodach."
   ]
  },
  {
   "cell_type": "code",
   "execution_count": 9,
   "metadata": {},
   "outputs": [
    {
     "name": "stderr",
     "output_type": "stream",
     "text": [
      "c:\\Users\\Michalina\\anaconda3\\lib\\site-packages\\sklearn\\preprocessing\\_encoders.py:975: FutureWarning: `sparse` was renamed to `sparse_output` in version 1.2 and will be removed in 1.4. `sparse_output` is ignored unless you leave `sparse` to its default value.\n",
      "  warnings.warn(\n"
     ]
    }
   ],
   "source": [
    "from sklearn.preprocessing import OneHotEncoder\n",
    "\n",
    "profession_encoder = OneHotEncoder(sparse=False)\n",
    "profession_encoded = profession_encoder.fit_transform(data[['Profession']])\n",
    "profession_df = pd.DataFrame(profession_encoded, columns=profession_encoder.get_feature_names_out(['Profession']))\n",
    "data = pd.concat([data.drop(['Profession'], axis=1), profession_df], axis=1)"
   ]
  },
  {
   "cell_type": "markdown",
   "metadata": {},
   "source": [
    "W tym fragmencie kodu, podobnie jak poprzednio, wykonuje się operację na zmiennej kategorialnej 'Var_1' z DataFrame 'data'. Tworzona jest instancja OneHotEncoder, kolumna 'Var_1' zostaje przekształcona na kodowanie \"one-hot\", następnie tworzony jest nowy DataFrame z przekształconymi danymi, który jest łączony z oryginalnym DataFrame 'data' po usunięciu kolumny 'Var_1'."
   ]
  },
  {
   "cell_type": "code",
   "execution_count": 10,
   "metadata": {},
   "outputs": [
    {
     "name": "stderr",
     "output_type": "stream",
     "text": [
      "c:\\Users\\Michalina\\anaconda3\\lib\\site-packages\\sklearn\\preprocessing\\_encoders.py:975: FutureWarning: `sparse` was renamed to `sparse_output` in version 1.2 and will be removed in 1.4. `sparse_output` is ignored unless you leave `sparse` to its default value.\n",
      "  warnings.warn(\n"
     ]
    }
   ],
   "source": [
    "var_1_encoder = OneHotEncoder(sparse=False)\n",
    "var_1_encoded = var_1_encoder.fit_transform(data[['Var_1']])\n",
    "var_1_df = pd.DataFrame(var_1_encoded, columns=var_1_encoder.get_feature_names_out(['Var_1']))\n",
    "data = pd.concat([data.drop(['Var_1'], axis=1), var_1_df], axis=1)"
   ]
  },
  {
   "cell_type": "markdown",
   "metadata": {},
   "source": [
    "Klasa LabelEncoder została wykorzystana z modułu sklearn.preprocessing do przekształcenia kolumn kategorialnych w DataFrame 'data', takich jak 'Gender', 'Ever_Married', 'Graduated', 'Spending_Score' i 'Segmentation', na postać numeryczną. Dla każdej z tych kolumn została wywołana metoda fit_transform, która zapisuje przekształcone dane z powrotem do oryginalnej kolumny."
   ]
  },
  {
   "cell_type": "code",
   "execution_count": 11,
   "metadata": {},
   "outputs": [],
   "source": [
    "from sklearn.preprocessing import LabelEncoder\n",
    "\n",
    "label_encoder = LabelEncoder()\n",
    "categorical_columns = ['Gender', 'Ever_Married', 'Graduated', 'Spending_Score', 'Segmentation']\n",
    "for col in categorical_columns:\n",
    "    data[col] = label_encoder.fit_transform(data[col])"
   ]
  },
  {
   "cell_type": "markdown",
   "metadata": {},
   "source": [
    "Klasy MinMaxScaler i train_test_split są importowane z odpowiednich modułów. Następnie tworzony jest zbiór X zawierający dane po usunięciu kolumn 'Segmentation' i 'ID' z DataFrame 'data', oraz zbiór y zawierający tylko kolumnę 'Segmentation'. Tworzona jest instancja MinMaxScaler i stosowana jest do przeskalowania zbioru X. Ostatecznie dane są dzielone na zbiory treningowe i testowe, gdzie X_train i y_train zawierają dane treningowe, a X_test i y_test zawierają dane testowe. Podział odbywa się w proporcji 80% do 20%, a random_state=42 zapewnia powtarzalność wyników."
   ]
  },
  {
   "cell_type": "code",
   "execution_count": 12,
   "metadata": {},
   "outputs": [],
   "source": [
    "from sklearn.preprocessing import MinMaxScaler\n",
    "from sklearn.model_selection import train_test_split\n",
    "\n",
    "X = data.drop('Segmentation', axis=1)\n",
    "X = X.drop('ID', axis=1)\n",
    "y = data['Segmentation']\n",
    "\n",
    "scaler = MinMaxScaler()\n",
    "X= scaler.fit_transform(X)\n",
    "\n",
    "\n",
    "X_train, X_test, y_train, y_test = train_test_split(X, y, test_size=0.2, random_state=42)"
   ]
  },
  {
   "cell_type": "markdown",
   "metadata": {},
   "source": [
    "## Random forest\n",
    "1. Moduły sklearn.ensemble, sklearn.metrics, sklearn.model_selection oraz matplotlib.pyplot są wykorzystywane do trenowania modelu \n",
    "2. RandomForestClassifier, optymalizacji jego parametrów za pomocą GridSearchCV oraz oceny jego dokładności. \n",
    "3. Klasyfikator RandomForestClassifier jest tworzony z domyślnym ziarnem losowości (random_state=42). \n",
    "4. Definiowany jest parametr grid dla GridSearchCV, zawierający zestawy różnych wartości hiperparametrów modelu RandomForest. \n",
    "5. GridSearchCV jest używany do przeszukania przestrzeni parametrów zdefiniowanej przez param_grid_rf, korzystając z walidacji krzyżowej z 3 foldami (cv=3). \n",
    "5. Najlepszy model uzyskany za pomocą GridSearchCV jest dopasowywany do danych treningowych (X_train, y_train). \n",
    "6. Model jest wykorzystywany do przewidywania etykiet dla danych testowych (X_test), a następnie oceniana jest jego dokładność za pomocą metryki accuracy_score. \n",
    "7. Dokładność modelu RandomForest z optymalizacją GridSearchCV jest wydrukowana na ekranie."
   ]
  },
  {
   "cell_type": "code",
   "execution_count": 13,
   "metadata": {},
   "outputs": [
    {
     "name": "stdout",
     "output_type": "stream",
     "text": [
      "Dokładność modelu RandomForest z GridSearch: 0.5311327831957989\n"
     ]
    }
   ],
   "source": [
    "from sklearn.ensemble import RandomForestClassifier\n",
    "from sklearn.metrics import accuracy_score\n",
    "from sklearn.model_selection import GridSearchCV\n",
    "import matplotlib.pyplot as plt\n",
    "\n",
    "rf_clf = RandomForestClassifier(random_state=42)\n",
    "\n",
    "# Grid Search dla RandomForest\n",
    "param_grid_rf = {\n",
    "    'n_estimators': [100, 200, 300],\n",
    "    'max_depth': [None, 10, 20],\n",
    "    'min_samples_split': [2, 5, 10],\n",
    "    'min_samples_leaf': [1, 2, 4]\n",
    "}\n",
    "grid_search_rf = GridSearchCV(estimator=rf_clf, param_grid=param_grid_rf, cv=3)\n",
    "grid_search_rf.fit(X_train, y_train)\n",
    "# Predykcja i dokładność dla RandomForest z GridSearch\n",
    "y_pred_rf_grid = grid_search_rf.best_estimator_.predict(X_test)\n",
    "accuracy_rf_grid = accuracy_score(y_test, y_pred_rf_grid)\n",
    "\n",
    "print(\"Dokładność modelu RandomForest z GridSearch:\", accuracy_rf_grid)"
   ]
  },
  {
   "cell_type": "code",
   "execution_count": 18,
   "metadata": {},
   "outputs": [
    {
     "name": "stdout",
     "output_type": "stream",
     "text": [
      "Najlepsze parametry dla modelu RandomForest:\n",
      "{'max_depth': 10, 'min_samples_leaf': 4, 'min_samples_split': 2, 'n_estimators': 100}\n"
     ]
    }
   ],
   "source": [
    "print(\"Najlepsze parametry dla modelu RandomForest:\")\n",
    "print(grid_search_rf.best_params_)"
   ]
  },
  {
   "cell_type": "markdown",
   "metadata": {},
   "source": [
    "Generowana i wyświetlana jest macierz pomyłek dla modelu RandomForestClassifier na danych testowych.\n",
    "Najpierw tworzona jest macierz pomyłek za pomocą funkcji confusion_matrix z modułu sklearn.metrics. Następnie macierz pomyłek jest wyświetlana za pomocą funkcji imshow z biblioteki matplotlib, aby zobrazować pomyłki między prawdziwymi etykietami a przewidywanymi etykietami.\n",
    "Dodatkowo, etykiety klas są dodawane do osi x i y, a liczby w macierzy pomyłek są wyświetlane w odpowiednich komórkach, gdzie kolor tekstu jest zmieniany w zależności od wartości komórki (biały dla większych wartości, czarny dla mniejszych wartości).\n",
    "Na końcu dodawane są tytuły, opisy osi oraz wyświetlane jest okno z macierzą pomyłek."
   ]
  },
  {
   "cell_type": "code",
   "execution_count": 14,
   "metadata": {},
   "outputs": [
    {
     "data": {
      "image/png": "[encoded data removed]",
      "text/plain": [
       "<Figure size 432x288 with 2 Axes>"
      ]
     },
     "metadata": {
      "needs_background": "light"
     },
     "output_type": "display_data"
    }
   ],
   "source": [
    "from sklearn.metrics import confusion_matrix\n",
    "\n",
    "cm = confusion_matrix(y_test, y_pred_rf_grid)\n",
    "plt.imshow(cm, interpolation='nearest', cmap=plt.cm.Blues)\n",
    "plt.title('Macierz pomyłek')\n",
    "plt.colorbar()\n",
    "classes = ['Klasa 0', 'Klasa 1', 'Klasa 2', 'Klasa 3']  # Etykiety klas\n",
    "tick_marks = np.arange(len(classes))\n",
    "plt.xticks(tick_marks, classes, rotation=45)\n",
    "plt.yticks(tick_marks, classes)\n",
    "fmt = 'd'\n",
    "thresh = cm.max() / 2.\n",
    "for i in range(cm.shape[0]):\n",
    "    for j in range(cm.shape[1]):\n",
    "        plt.text(j, i, format(cm[i, j], fmt),\n",
    "                 ha=\"center\", va=\"center\",\n",
    "                 color=\"white\" if cm[i, j] > thresh else \"black\")\n",
    "\n",
    "plt.tight_layout()\n",
    "plt.ylabel('Prawdziwa klasa')\n",
    "plt.xlabel('Przewidziana klasa')\n",
    "plt.show()"
   ]
  },
  {
   "cell_type": "markdown",
   "metadata": {},
   "source": [
    "Obliczany jest współczynnik Kappa Cohena dla modelu Gradient Boosting Classifier, korzystając z funkcji cohen_kappa_score z modułu sklearn.metrics. Wynik zostaje wydrukowany na ekranie."
   ]
  },
  {
   "cell_type": "code",
   "execution_count": 15,
   "metadata": {},
   "outputs": [
    {
     "name": "stdout",
     "output_type": "stream",
     "text": [
      "Współczynnik Kappa Cohena dla Gradient Boosting Classifier: 0.3727200515000132\n"
     ]
    }
   ],
   "source": [
    "from sklearn.metrics import cohen_kappa_score\n",
    "\n",
    "# Prawdziwe etykiety (y_true) i przewidywane etykiety (y_pred) dla Gradient Boosting Classifier\n",
    "# Załóżmy, że y_true i y_pred są zdefiniowane\n",
    "\n",
    "# Obliczenie współczynnika Kappa Cohena\n",
    "kappa = cohen_kappa_score(y_test, y_pred_rf_grid)\n",
    "\n",
    "print(\"Współczynnik Kappa Cohena dla Gradient Boosting Classifier:\", kappa)"
   ]
  },
  {
   "cell_type": "markdown",
   "metadata": {},
   "source": [
    "Obliczana i wyświetlana jest krzywa ROC dla klasyfikacji czteroklasowej przy użyciu modelu RandomForestClassifier, który został zoptymalizowany za pomocą GridSearchCV.\n",
    "Najpierw, dla każdej klasy, obliczane są współczynniki fałszywie pozytywnych (fpr) i prawdziwie pozytywnych (tpr) oraz obszary pod krzywymi ROC (roc_auc) za pomocą funkcji roc_curve i auc.\n",
    "Następnie, dla każdej klasy, krzywe ROC są rysowane przy użyciu plt.plot, a także dodawana jest linia odniesienia (linia przekątnej), która reprezentuje klasyfikację losową.\n",
    "Na końcu, wykres jest wyświetlany za pomocą plt.show()."
   ]
  },
  {
   "cell_type": "code",
   "execution_count": 17,
   "metadata": {},
   "outputs": [
    {
     "data": {
      "image/png": "[encoded data removed]",
      "text/plain": [
       "<Figure size 432x288 with 1 Axes>"
      ]
     },
     "metadata": {
      "needs_background": "light"
     },
     "output_type": "display_data"
    }
   ],
   "source": [
    "from sklearn.metrics import roc_auc_score\n",
    "from sklearn.metrics import roc_curve, auc\n",
    "\n",
    "y_prob = grid_search_rf.predict_proba(X_test)\n",
    "\n",
    "# 7. Obliczenie krzywej ROC\n",
    "fpr = dict()\n",
    "tpr = dict()\n",
    "roc_auc = dict()\n",
    "for i in range(len(grid_search_rf.classes_)):\n",
    "    fpr[i], tpr[i], _ = roc_curve(y_test == i, y_prob[:, i])\n",
    "    roc_auc[i] = auc(fpr[i], tpr[i])\n",
    "\n",
    "# 8. Wyświetlenie krzywej ROC\n",
    "plt.figure()\n",
    "for i in range(len(grid_search_rf.classes_)):\n",
    "    plt.plot(fpr[i], tpr[i], lw=2, label='Klasa {0} (obszar pod krzywą = {1:0.2f})'.format(i, roc_auc[i]))\n",
    "\n",
    "plt.plot([0, 1], [0, 1], color='navy', lw=2, linestyle='--')\n",
    "plt.xlim([0.0, 1.0])\n",
    "plt.ylim([0.0, 1.05])\n",
    "plt.xlabel('Odsetek fałszywie pozytywnych')\n",
    "plt.ylabel('Odsetek prawdziwie pozytywnych')\n",
    "plt.title('Krzywa ROC dla klasyfikacji czteroklasowej')\n",
    "plt.legend(loc=\"lower right\")\n",
    "plt.show()"
   ]
  },
  {
   "cell_type": "markdown",
   "metadata": {},
   "source": [
    "## Gradient boosting\n",
    "\n",
    "Przeprowadzany jest proces dopasowania GradientBoostingClassifier za pomocą metody GridSearchCV w celu optymalizacji jego parametrów.</br>\n",
    "Najpierw, tworzony jest klasyfikator GradientBoostingClassifier z domyślnym ziarnem losowości (random_state=42).</br>\n",
    "Następnie, definiowany jest parametr grid dla GridSearchCV, zawierający zestawy różnych wartości hiperparametrów modelu GradientBoosting.</br>\n",
    "GridSearchCV jest używany do przeszukania przestrzeni parametrów zdefiniowanej przez param_grid_gb, korzystając z walidacji krzyżowej z 3 foldami (cv=3).</br>\n",
    "Następnie, najlepszy model uzyskany za pomocą GridSearchCV jest dopasowywany do danych treningowych (X_train, y_train).</br>\n",
    "Model jest wykorzystywany do przewidywania etykiet dla danych testowych (X_test), a następnie oceniana jest jego dokładność za pomocą metryki accuracy_score.</br>\n",
    "Na koniec, wydrukowana jest dokładność modelu GradientBoosting z optymalizacją GridSearchCV oraz najlepsze parametry znalezione przez GridSearchCV."
   ]
  },
  {
   "cell_type": "code",
   "execution_count": 19,
   "metadata": {},
   "outputs": [],
   "source": [
    "from sklearn.ensemble import GradientBoostingClassifier\n",
    "\n",
    "gb_clf = GradientBoostingClassifier(random_state=42)\n",
    "\n",
    "# Grid Search dla GradientBoosting\n",
    "param_grid_gb = {\n",
    "    'n_estimators': [50, 100, 150],\n",
    "    'learning_rate': [0.01, 0.1, 0.2],\n",
    "    'max_depth': [3, 5, 7],\n",
    "    'min_samples_split': [2, 5, 10],\n",
    "    'min_samples_leaf': [1, 2, 4]\n",
    "}\n",
    "grid_search_gb = GridSearchCV(estimator=gb_clf, param_grid=param_grid_gb, cv=3)\n",
    "grid_search_gb.fit(X_train, y_train)\n",
    "# Predykcja i dokładność dla GradientBoosting z GridSearch\n",
    "y_pred_gb_grid = grid_search_gb.best_estimator_.predict(X_test)\n",
    "accuracy_gb_grid = accuracy_score(y_test, y_pred_gb_grid)\n",
    "\n",
    "print(\"Dokładność modelu GradientBoosting z GridSearch:\", accuracy_gb_grid)\n",
    "\n",
    "print(\"Najlepsze parametry dla modelu GradientBoosting:\")\n",
    "print(grid_search_gb.best_params_)\n"
   ]
  },
  {
   "cell_type": "markdown",
   "metadata": {},
   "source": [
    "Najpierw, używając funkcji confusion_matrix z modułu sklearn.metrics, tworzona jest macierz pomyłek na podstawie rzeczywistych etykiet (y_test) i przewidywanych etykiet (y_pred_gb_grid).</br>\n",
    "Następnie, macierz pomyłek jest wyświetlana za pomocą funkcji imshow z biblioteki matplotlib, aby zobrazować pomyłki między prawdziwymi etykietami a przewidywanymi etykietami.</br>\n",
    "Dodatkowo, etykiety klas są dodawane do osi x i y, a liczby w macierzy pomyłek są wyświetlane w odpowiednich komórkach, gdzie kolor tekstu jest zmieniany w zależności od wartości komórki (biały dla większych wartości, czarny dla mniejszych wartości).</br>\n",
    "Na końcu dodawane są tytuły, opisy osi oraz wyświetlane jest okno z macierzą pomyłek."
   ]
  },
  {
   "cell_type": "code",
   "execution_count": null,
   "metadata": {},
   "outputs": [],
   "source": [
    "from sklearn.metrics import confusion_matrix\n",
    "\n",
    "cm = confusion_matrix(y_test, y_pred_gb_grid)\n",
    "plt.imshow(cm, interpolation='nearest', cmap=plt.cm.Blues)\n",
    "plt.title('Macierz pomyłek')\n",
    "plt.colorbar()\n",
    "classes = ['Klasa 0', 'Klasa 1', 'Klasa 2', 'Klasa 3']  # Etykiety klas\n",
    "tick_marks = np.arange(len(classes))\n",
    "plt.xticks(tick_marks, classes, rotation=45)\n",
    "plt.yticks(tick_marks, classes)\n",
    "fmt = 'd'\n",
    "thresh = cm.max() / 2.\n",
    "for i in range(cm.shape[0]):\n",
    "    for j in range(cm.shape[1]):\n",
    "        plt.text(j, i, format(cm[i, j], fmt),\n",
    "                 ha=\"center\", va=\"center\",\n",
    "                 color=\"white\" if cm[i, j] > thresh else \"black\")\n",
    "\n",
    "plt.tight_layout()\n",
    "plt.ylabel('Prawdziwa klasa')\n",
    "plt.xlabel('Przewidziana klasa')\n",
    "plt.show()"
   ]
  },
  {
   "cell_type": "markdown",
   "metadata": {},
   "source": [
    "Współczynnik Kappa Cohena dla modelu Gradient Boosting Classifier jest obliczany przy użyciu funkcji cohen_kappa_score z modułu sklearn.metrics, a następnie wydrukowany na ekranie."
   ]
  },
  {
   "cell_type": "code",
   "execution_count": null,
   "metadata": {},
   "outputs": [],
   "source": [
    "from sklearn.metrics import cohen_kappa_score\n",
    "\n",
    "# Prawdziwe etykiety (y_true) i przewidywane etykiety (y_pred) dla Gradient Boosting Classifier\n",
    "# Załóżmy, że y_true i y_pred są zdefiniowane\n",
    "\n",
    "# Obliczenie współczynnika Kappa Cohena\n",
    "kappa = cohen_kappa_score(y_test, y_pred_gb_grid)\n",
    "\n",
    "print(\"Współczynnik Kappa Cohena dla Gradient Boosting Classifier:\", kappa)"
   ]
  },
  {
   "cell_type": "markdown",
   "metadata": {},
   "source": [
    "\n",
    "Krzywa ROC jest obliczana i wyświetlana dla klasyfikacji czteroklasowej przy użyciu modelu GradientBoostingClassifier, który został zoptymalizowany za pomocą GridSearchCV.</br>\n",
    "Najpierw, dla każdej klasy, obliczane są współczynniki fałszywie pozytywnych (fpr) i prawdziwie pozytywnych (tpr) oraz obszary pod krzywymi ROC (roc_auc) za pomocą funkcji roc_curve i auc.</br>\n",
    "Następnie, dla każdej klasy, krzywe ROC są rysowane przy użyciu plt.plot, a także dodawana jest linia odniesienia (linia przekątnej), która reprezentuje klasyfikację losową.</br>\n",
    "Na końcu, wykres jest wyświetlany za pomocą plt.show()."
   ]
  },
  {
   "cell_type": "code",
   "execution_count": null,
   "metadata": {},
   "outputs": [],
   "source": [
    "from sklearn.metrics import roc_auc_score\n",
    "from sklearn.metrics import roc_curve, auc\n",
    "\n",
    "y_prob = grid_search_gb.predict_proba(X_test)\n",
    "\n",
    "# 7. Obliczenie krzywej ROC\n",
    "fpr = dict()\n",
    "tpr = dict()\n",
    "roc_auc = dict()\n",
    "for i in range(len(grid_search_gb.classes_)):\n",
    "    fpr[i], tpr[i], _ = roc_curve(y_test == i, y_prob[:, i])\n",
    "    roc_auc[i] = auc(fpr[i], tpr[i])\n",
    "\n",
    "# 8. Wyświetlenie krzywej ROC\n",
    "plt.figure()\n",
    "for i in range(len(grid_search_gb.classes_)):\n",
    "    plt.plot(fpr[i], tpr[i], lw=2, label='Klasa {0} (obszar pod krzywą = {1:0.2f})'.format(i, roc_auc[i]))\n",
    "\n",
    "plt.plot([0, 1], [0, 1], color='navy', lw=2, linestyle='--')\n",
    "plt.xlim([0.0, 1.0])\n",
    "plt.ylim([0.0, 1.05])\n",
    "plt.xlabel('Odsetek fałszywie pozytywnych')\n",
    "plt.ylabel('Odsetek prawdziwie pozytywnych')\n",
    "plt.title('Krzywa ROC dla klasyfikacji czteroklasowej')\n",
    "plt.legend(loc=\"lower right\")\n",
    "plt.show()"
   ]
  },
  {
   "cell_type": "markdown",
   "metadata": {},
   "source": [
    "## Support vector machine\n",
    "Najpierw, tworzony jest klasyfikator SVM za pomocą klasy SVC z wybranym jądrem 'linear', strategią decyzyjną 'ovr' (one-vs-rest) i domyślnym ziarnem losowości (random_state=42).</br>\n",
    "Następnie, definiowany jest parametr grid dla GridSearchCV, zawierający zestawy różnych wartości hiperparametrów modelu SVM, takich jak parametr regularyzacji C, typ jądra (kernel) oraz współczynnik jądra gamma.</br>\n",
    "GridSearchCV jest używany do przeszukania przestrzeni parametrów zdefiniowanej przez param_grid_svm, korzystając z walidacji krzyżowej z 3 foldami (cv=3).</br>\n",
    "Następnie, najlepszy model uzyskany za pomocą GridSearchCV jest dopasowywany do danych treningowych (X_train, y_train).\n",
    "Model jest wykorzystywany do przewidywania etykiet dla danych testowych (X_test), a następnie oceniana jest jego dokładność za pomocą metryki accuracy_score.</br>\n",
    "Na końcu, wydrukowana jest dokładność modelu SVM z optymalizacją GridSearchCV oraz najlepsze parametry znalezione przez GridSearchCV."
   ]
  },
  {
   "cell_type": "code",
   "execution_count": null,
   "metadata": {},
   "outputs": [],
   "source": [
    "from sklearn.svm import SVC\n",
    "\n",
    "svm_clf = SVC(kernel='linear', decision_function_shape='ovr', random_state=42)\n",
    "\n",
    "# Grid Search dla SVM\n",
    "param_grid_svm = {\n",
    "    'C': [0.1, 1, 10, 100],  # Parametr regularyzacji\n",
    "    'kernel': ['linear', 'rbf', 'poly'],  # Typ jądra\n",
    "    'gamma': ['scale', 'auto']  # Współczynnik jądra dla 'rbf' i 'poly'\n",
    "}\n",
    "grid_search_svm = GridSearchCV(estimator=svm_clf, param_grid=param_grid_svm, cv=3)\n",
    "grid_search_svm.fit(X_train, y_train)\n",
    "# Predykcja i dokładność dla SVM z GridSearch\n",
    "y_pred_svm_grid = grid_search_svm.best_estimator_.predict(X_test)\n",
    "accuracy_svm_grid = accuracy_score(y_test, y_pred_svm_grid)\n",
    "\n",
    "print(\"Dokładność modelu SVM z GridSearch:\", accuracy_svm_grid)\n",
    "\n",
    "print(\"Najlepsze parametry dla modelu SVM:\")\n",
    "print(grid_search_svm.best_params_)\n"
   ]
  },
  {
   "cell_type": "markdown",
   "metadata": {},
   "source": [
    "Używając funkcji confusion_matrix z modułu sklearn.metrics, tworzona jest macierz pomyłek na podstawie rzeczywistych etykiet (y_test) i przewidywanych etykiet (y_pred_svm_grid).</br>\n",
    "Następnie, macierz pomyłek jest wyświetlana za pomocą funkcji imshow z biblioteki matplotlib, aby zobrazować pomyłki między prawdziwymi etykietami a przewidywanymi etykietami.</br>\n",
    "Dodatkowo, etykiety klas są dodawane do osi x i y, a liczby w macierzy pomyłek są wyświetlane w odpowiednich komórkach, gdzie kolor tekstu jest zmieniany w zależności od wartości komórki (biały dla większych wartości, czarny dla mniejszych wartości).</br>\n",
    "Na końcu dodawane są tytuły, opisy osi oraz wyświetlane jest okno z macierzą pomyłek."
   ]
  },
  {
   "cell_type": "code",
   "execution_count": null,
   "metadata": {},
   "outputs": [],
   "source": [
    "from sklearn.metrics import confusion_matrix\n",
    "\n",
    "cm = confusion_matrix(y_test, y_pred_svm_grid)\n",
    "plt.imshow(cm, interpolation='nearest', cmap=plt.cm.Blues)\n",
    "plt.title('Macierz pomyłek')\n",
    "plt.colorbar()\n",
    "classes = ['Klasa 0', 'Klasa 1', 'Klasa 2', 'Klasa 3']  # Etykiety klas\n",
    "tick_marks = np.arange(len(classes))\n",
    "plt.xticks(tick_marks, classes, rotation=45)\n",
    "plt.yticks(tick_marks, classes)\n",
    "fmt = 'd'\n",
    "thresh = cm.max() / 2.\n",
    "for i in range(cm.shape[0]):\n",
    "    for j in range(cm.shape[1]):\n",
    "        plt.text(j, i, format(cm[i, j], fmt),\n",
    "                 ha=\"center\", va=\"center\",\n",
    "                 color=\"white\" if cm[i, j] > thresh else \"black\")\n",
    "\n",
    "plt.tight_layout()\n",
    "plt.ylabel('Prawdziwa klasa')\n",
    "plt.xlabel('Przewidziana klasa')\n",
    "plt.show()"
   ]
  },
  {
   "cell_type": "markdown",
   "metadata": {},
   "source": [
    "Obliczany jest współczynnik Kappa Cohena dla modelu SVM przy użyciu funkcji cohen_kappa_score z modułu sklearn.metrics. Wynik jest następnie wydrukowany na ekranie."
   ]
  },
  {
   "cell_type": "code",
   "execution_count": null,
   "metadata": {},
   "outputs": [],
   "source": [
    "from sklearn.metrics import cohen_kappa_score\n",
    "\n",
    "# Prawdziwe etykiety (y_true) i przewidywane etykiety (y_pred) dla Gradient Boosting Classifier\n",
    "# Załóżmy, że y_true i y_pred są zdefiniowane\n",
    "\n",
    "# Obliczenie współczynnika Kappa Cohena\n",
    "kappa = cohen_kappa_score(y_test, y_pred_svm_grid)\n",
    "\n",
    "print(\"Współczynnik Kappa Cohena dla Gradient Boosting Classifier:\", kappa)"
   ]
  },
  {
   "cell_type": "markdown",
   "metadata": {},
   "source": [
    "Dla każdej klasy, obliczane są współczynniki fałszywie pozytywnych (fpr) i prawdziwie pozytywnych (tpr) oraz obszary pod krzywymi ROC (roc_auc) za pomocą funkcji roc_curve i auc.</br>\n",
    "Następnie, dla każdej klasy, krzywe ROC są rysowane przy użyciu plt.plot, a także dodawana jest linia odniesienia (linia przekątnej), która reprezentuje klasyfikację losową.</br>\n",
    "Na końcu, wykres jest wyświetlany za pomocą plt.show()."
   ]
  },
  {
   "cell_type": "code",
   "execution_count": null,
   "metadata": {},
   "outputs": [],
   "source": [
    "from sklearn.metrics import roc_auc_score\n",
    "from sklearn.metrics import roc_curve, auc\n",
    "\n",
    "y_prob = grid_search_svm.predict_proba(X_test)\n",
    "\n",
    "# 7. Obliczenie krzywej ROC\n",
    "fpr = dict()\n",
    "tpr = dict()\n",
    "roc_auc = dict()\n",
    "for i in range(len(grid_search_svm.classes_)):\n",
    "    fpr[i], tpr[i], _ = roc_curve(y_test == i, y_prob[:, i])\n",
    "    roc_auc[i] = auc(fpr[i], tpr[i])\n",
    "\n",
    "# 8. Wyświetlenie krzywej ROC\n",
    "plt.figure()\n",
    "for i in range(len(grid_search_svm.classes_)):\n",
    "    plt.plot(fpr[i], tpr[i], lw=2, label='Klasa {0} (obszar pod krzywą = {1:0.2f})'.format(i, roc_auc[i]))\n",
    "\n",
    "plt.plot([0, 1], [0, 1], color='navy', lw=2, linestyle='--')\n",
    "plt.xlim([0.0, 1.0])\n",
    "plt.ylim([0.0, 1.05])\n",
    "plt.xlabel('Odsetek fałszywie pozytywnych')\n",
    "plt.ylabel('Odsetek prawdziwie pozytywnych')\n",
    "plt.title('Krzywa ROC dla klasyfikacji czteroklasowej')\n",
    "plt.legend(loc=\"lower right\")\n",
    "plt.show()"
   ]
  },
  {
   "cell_type": "markdown",
   "metadata": {},
   "source": [
    "## Xgboost\n",
    "Tworzony jest klasyfikator XGBClassifier z wybranymi parametrami, takimi jak funkcja celu (objective), liczba klas (num_class) oraz domyślne ziarno losowości (random_state=42).</br>\n",
    "Następnie, definiowany jest parametr grid dla GridSearchCV, zawierający zestawy różnych wartości hiperparametrów modelu XGBoost, takich jak współczynnik uczenia (learning_rate), liczba drzew (n_estimators), maksymalna głębokość drzewa (max_depth) oraz minimalna suma wag dla dziecka (min_child_weight).</br>\n",
    "GridSearchCV jest używany do przeszukania przestrzeni parametrów zdefiniowanej przez param_grid_xgb, korzystając z walidacji krzyżowej z 3 foldami (cv=3).</br>\n",
    "Następnie, najlepszy model uzyskany za pomocą GridSearchCV jest dopasowywany do danych treningowych (X_train, y_train).</br>\n",
    "Model jest wykorzystywany do przewidywania etykiet dla danych testowych (X_test), a następnie oceniana jest jego dokładność za pomocą metryki accuracy_score."
   ]
  },
  {
   "cell_type": "code",
   "execution_count": null,
   "metadata": {},
   "outputs": [],
   "source": [
    "from xgboost import XGBClassifier\n",
    "\n",
    "xgb_clf = XGBClassifier(objective='multi:softmax', num_class=4, random_state=42)\n",
    "\n",
    "# Grid Search dla XGBoost\n",
    "param_grid_xgb = {\n",
    "    'learning_rate': [0.1, 0.2],  # Współczynnik uczenia\n",
    "    'n_estimators': [100, 150],  # Liczba drzew\n",
    "    'max_depth': [3, 5],  # Maksymalna głębokość drzewa\n",
    "    'min_child_weight': [1, 5],  # Minimalna suma wag dla dziecka\n",
    "}\n",
    "grid_search_xgb = GridSearchCV(estimator=xgb_clf, param_grid=param_grid_xgb, cv=3)\n",
    "grid_search_xgb.fit(X_train, y_train)\n",
    "# Predykcja i dokładność dla XGBoost z GridSearch\n",
    "y_pred_xgb_grid = grid_search_xgb.best_estimator_.predict(X_test)\n",
    "accuracy_xgb_grid = accuracy_score(y_test, y_pred_xgb_grid)\n",
    "\n",
    "print(\"Dokładność modelu XGBoost z GridSearch:\", accuracy_xgb_grid)\n",
    "\n",
    "print(\"Najlepsze parametry dla modelu XGBoost:\")\n",
    "print(grid_search_xgb.best_params_)"
   ]
  },
  {
   "cell_type": "markdown",
   "metadata": {},
   "source": [
    "Używając funkcji confusion_matrix z modułu sklearn.metrics, tworzona jest macierz pomyłek na podstawie rzeczywistych etykiet (y_test) i przewidywanych etykiet (y_pred_xgb_grid).</br>\n",
    "Następnie, macierz pomyłek jest wyświetlana za pomocą funkcji imshow z biblioteki matplotlib, aby zobrazować pomyłki między prawdziwymi etykietami a przewidywanymi etykietami.</br>\n",
    "Dodatkowo, etykiety klas są dodawane do osi x i y, a liczby w macierzy pomyłek są wyświetlane w odpowiednich komórkach, gdzie kolor tekstu jest zmieniany w zależności od wartości komórki (biały dla większych wartości, czarny dla mniejszych wartości).</br>\n",
    "Na końcu dodawane są tytuły, opisy osi oraz wyświetlane jest okno z macierzą pomyłek."
   ]
  },
  {
   "cell_type": "code",
   "execution_count": null,
   "metadata": {},
   "outputs": [],
   "source": [
    "from sklearn.metrics import confusion_matrix\n",
    "\n",
    "cm = confusion_matrix(y_test, y_pred_xgb_grid)\n",
    "plt.imshow(cm, interpolation='nearest', cmap=plt.cm.Blues)\n",
    "plt.title('Macierz pomyłek')\n",
    "plt.colorbar()\n",
    "classes = ['Klasa 0', 'Klasa 1', 'Klasa 2', 'Klasa 3']  # Etykiety klas\n",
    "tick_marks = np.arange(len(classes))\n",
    "plt.xticks(tick_marks, classes, rotation=45)\n",
    "plt.yticks(tick_marks, classes)\n",
    "fmt = 'd'\n",
    "thresh = cm.max() / 2.\n",
    "for i in range(cm.shape[0]):\n",
    "    for j in range(cm.shape[1]):\n",
    "        plt.text(j, i, format(cm[i, j], fmt),\n",
    "                 ha=\"center\", va=\"center\",\n",
    "                 color=\"white\" if cm[i, j] > thresh else \"black\")\n",
    "\n",
    "plt.tight_layout()\n",
    "plt.ylabel('Prawdziwa klasa')\n",
    "plt.xlabel('Przewidziana klasa')\n",
    "plt.show()"
   ]
  },
  {
   "cell_type": "markdown",
   "metadata": {},
   "source": [
    "Obliczany jest współczynnik Kappa Cohena dla modelu XGBoost przy użyciu funkcji cohen_kappa_score z modułu sklearn.metrics. Wynik jest następnie wydrukowany na ekranie."
   ]
  },
  {
   "cell_type": "code",
   "execution_count": null,
   "metadata": {},
   "outputs": [],
   "source": [
    "from sklearn.metrics import cohen_kappa_score\n",
    "\n",
    "# Prawdziwe etykiety (y_true) i przewidywane etykiety (y_pred) dla Gradient Boosting Classifier\n",
    "# Załóżmy, że y_true i y_pred są zdefiniowane\n",
    "\n",
    "# Obliczenie współczynnika Kappa Cohena\n",
    "kappa = cohen_kappa_score(y_test, y_pred_xgb_grid)\n",
    "\n",
    "print(\"Współczynnik Kappa Cohena dla Gradient Boosting Classifier:\", kappa)"
   ]
  },
  {
   "cell_type": "markdown",
   "metadata": {},
   "source": [
    "Dla każdej klasy, obliczane są współczynniki fałszywie pozytywnych (fpr) i prawdziwie pozytywnych (tpr) oraz obszary pod krzywymi ROC (roc_auc) za pomocą funkcji roc_curve i auc.</br>\n",
    "Następnie, dla każdej klasy, krzywe ROC są rysowane przy użyciu plt.plot, a także dodawana jest linia odniesienia (linia przekątnej), która reprezentuje klasyfikację losową.\n",
    "Na końcu, wykres jest wyświetlany za pomocą plt.show()."
   ]
  },
  {
   "cell_type": "code",
   "execution_count": null,
   "metadata": {},
   "outputs": [],
   "source": [
    "from sklearn.metrics import roc_auc_score\n",
    "from sklearn.metrics import roc_curve, auc\n",
    "\n",
    "y_prob = grid_search_xgb.predict_proba(X_test)\n",
    "\n",
    "# 7. Obliczenie krzywej ROC\n",
    "fpr = dict()\n",
    "tpr = dict()\n",
    "roc_auc = dict()\n",
    "for i in range(len(grid_search_xgb.classes_)):\n",
    "    fpr[i], tpr[i], _ = roc_curve(y_test == i, y_prob[:, i])\n",
    "    roc_auc[i] = auc(fpr[i], tpr[i])\n",
    "\n",
    "# 8. Wyświetlenie krzywej ROC\n",
    "plt.figure()\n",
    "for i in range(len(grid_search_xgb.classes_)):\n",
    "    plt.plot(fpr[i], tpr[i], lw=2, label='Klasa {0} (obszar pod krzywą = {1:0.2f})'.format(i, roc_auc[i]))\n",
    "\n",
    "plt.plot([0, 1], [0, 1], color='navy', lw=2, linestyle='--')\n",
    "plt.xlim([0.0, 1.0])\n",
    "plt.ylim([0.0, 1.05])\n",
    "plt.xlabel('Odsetek fałszywie pozytywnych')\n",
    "plt.ylabel('Odsetek prawdziwie pozytywnych')\n",
    "plt.title('Krzywa ROC dla klasyfikacji czteroklasowej')\n",
    "plt.legend(loc=\"lower right\")\n",
    "plt.show()"
   ]
  },
  {
   "cell_type": "markdown",
   "metadata": {},
   "source": [
    "Na podstawie przeprowadzonych analiz wybrano model Gradient Boosting jako najlepszy w klasyfikacji czterech klas.</br> Model ten osiągnął najwyższą dokładność w porównaniu z innymi modelami, a jego optymalne parametry to:\n",
    "* learning_rate: 0.1\n",
    "* max_depth: 3\n",
    "* min_samples_leaf: 1\n",
    "* min_samples_split: 5\n",
    "* n_estimators: 50\n",
    "\n",
    "Modele z innymi algorytmami, takimi jak SVM, XGBoost i RandomForest, zostały przetestowane, jednak model Gradient Boosting osiągnął najwyższą wydajność i skuteczność."
   ]
  },
  {
   "cell_type": "code",
   "execution_count": null,
   "metadata": {},
   "outputs": [],
   "source": [
    "import pickle\n",
    "\n",
    "with open('model_rf.pkl', 'wb') as f:\n",
    "    pickle.dump(model, f)"
   ]
  }
 ],
 "metadata": {
  "kernelspec": {
   "display_name": "base",
   "language": "python",
   "name": "python3"
  },
  "language_info": {
   "codemirror_mode": {
    "name": "ipython",
    "version": 3
   },
   "file_extension": ".py",
   "mimetype": "text/x-python",
   "name": "python",
   "nbconvert_exporter": "python",
   "pygments_lexer": "ipython3",
   "version": "3.11.2"
  }
 },
 "nbformat": 4,
 "nbformat_minor": 2
}
